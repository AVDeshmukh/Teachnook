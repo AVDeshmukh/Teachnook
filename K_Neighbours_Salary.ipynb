{
  "nbformat": 4,
  "nbformat_minor": 0,
  "metadata": {
    "colab": {
      "provenance": []
    },
    "kernelspec": {
      "name": "python3",
      "display_name": "Python 3"
    },
    "language_info": {
      "name": "python"
    }
  },
  "cells": [
    {
      "cell_type": "code",
      "execution_count": null,
      "metadata": {
        "id": "gSwhPSL_1b6E"
      },
      "outputs": [],
      "source": [
        "import pandas as pd\n",
        "import numpy as np"
      ]
    },
    {
      "cell_type": "code",
      "source": [
        "from google.colab import files\n",
        "uploaded=files.upload()"
      ],
      "metadata": {
        "colab": {
          "base_uri": "https://localhost:8080/",
          "height": 74
        },
        "id": "tVMTAaoCasah",
        "outputId": "3c059ca1-71eb-4477-8e64-1fb2578a5edf"
      },
      "execution_count": null,
      "outputs": [
        {
          "output_type": "display_data",
          "data": {
            "text/plain": [
              "<IPython.core.display.HTML object>"
            ],
            "text/html": [
              "\n",
              "     <input type=\"file\" id=\"files-c6eced59-b434-4f6f-a40b-b48dc1451d25\" name=\"files[]\" multiple disabled\n",
              "        style=\"border:none\" />\n",
              "     <output id=\"result-c6eced59-b434-4f6f-a40b-b48dc1451d25\">\n",
              "      Upload widget is only available when the cell has been executed in the\n",
              "      current browser session. Please rerun this cell to enable.\n",
              "      </output>\n",
              "      <script>// Copyright 2017 Google LLC\n",
              "//\n",
              "// Licensed under the Apache License, Version 2.0 (the \"License\");\n",
              "// you may not use this file except in compliance with the License.\n",
              "// You may obtain a copy of the License at\n",
              "//\n",
              "//      http://www.apache.org/licenses/LICENSE-2.0\n",
              "//\n",
              "// Unless required by applicable law or agreed to in writing, software\n",
              "// distributed under the License is distributed on an \"AS IS\" BASIS,\n",
              "// WITHOUT WARRANTIES OR CONDITIONS OF ANY KIND, either express or implied.\n",
              "// See the License for the specific language governing permissions and\n",
              "// limitations under the License.\n",
              "\n",
              "/**\n",
              " * @fileoverview Helpers for google.colab Python module.\n",
              " */\n",
              "(function(scope) {\n",
              "function span(text, styleAttributes = {}) {\n",
              "  const element = document.createElement('span');\n",
              "  element.textContent = text;\n",
              "  for (const key of Object.keys(styleAttributes)) {\n",
              "    element.style[key] = styleAttributes[key];\n",
              "  }\n",
              "  return element;\n",
              "}\n",
              "\n",
              "// Max number of bytes which will be uploaded at a time.\n",
              "const MAX_PAYLOAD_SIZE = 100 * 1024;\n",
              "\n",
              "function _uploadFiles(inputId, outputId) {\n",
              "  const steps = uploadFilesStep(inputId, outputId);\n",
              "  const outputElement = document.getElementById(outputId);\n",
              "  // Cache steps on the outputElement to make it available for the next call\n",
              "  // to uploadFilesContinue from Python.\n",
              "  outputElement.steps = steps;\n",
              "\n",
              "  return _uploadFilesContinue(outputId);\n",
              "}\n",
              "\n",
              "// This is roughly an async generator (not supported in the browser yet),\n",
              "// where there are multiple asynchronous steps and the Python side is going\n",
              "// to poll for completion of each step.\n",
              "// This uses a Promise to block the python side on completion of each step,\n",
              "// then passes the result of the previous step as the input to the next step.\n",
              "function _uploadFilesContinue(outputId) {\n",
              "  const outputElement = document.getElementById(outputId);\n",
              "  const steps = outputElement.steps;\n",
              "\n",
              "  const next = steps.next(outputElement.lastPromiseValue);\n",
              "  return Promise.resolve(next.value.promise).then((value) => {\n",
              "    // Cache the last promise value to make it available to the next\n",
              "    // step of the generator.\n",
              "    outputElement.lastPromiseValue = value;\n",
              "    return next.value.response;\n",
              "  });\n",
              "}\n",
              "\n",
              "/**\n",
              " * Generator function which is called between each async step of the upload\n",
              " * process.\n",
              " * @param {string} inputId Element ID of the input file picker element.\n",
              " * @param {string} outputId Element ID of the output display.\n",
              " * @return {!Iterable<!Object>} Iterable of next steps.\n",
              " */\n",
              "function* uploadFilesStep(inputId, outputId) {\n",
              "  const inputElement = document.getElementById(inputId);\n",
              "  inputElement.disabled = false;\n",
              "\n",
              "  const outputElement = document.getElementById(outputId);\n",
              "  outputElement.innerHTML = '';\n",
              "\n",
              "  const pickedPromise = new Promise((resolve) => {\n",
              "    inputElement.addEventListener('change', (e) => {\n",
              "      resolve(e.target.files);\n",
              "    });\n",
              "  });\n",
              "\n",
              "  const cancel = document.createElement('button');\n",
              "  inputElement.parentElement.appendChild(cancel);\n",
              "  cancel.textContent = 'Cancel upload';\n",
              "  const cancelPromise = new Promise((resolve) => {\n",
              "    cancel.onclick = () => {\n",
              "      resolve(null);\n",
              "    };\n",
              "  });\n",
              "\n",
              "  // Wait for the user to pick the files.\n",
              "  const files = yield {\n",
              "    promise: Promise.race([pickedPromise, cancelPromise]),\n",
              "    response: {\n",
              "      action: 'starting',\n",
              "    }\n",
              "  };\n",
              "\n",
              "  cancel.remove();\n",
              "\n",
              "  // Disable the input element since further picks are not allowed.\n",
              "  inputElement.disabled = true;\n",
              "\n",
              "  if (!files) {\n",
              "    return {\n",
              "      response: {\n",
              "        action: 'complete',\n",
              "      }\n",
              "    };\n",
              "  }\n",
              "\n",
              "  for (const file of files) {\n",
              "    const li = document.createElement('li');\n",
              "    li.append(span(file.name, {fontWeight: 'bold'}));\n",
              "    li.append(span(\n",
              "        `(${file.type || 'n/a'}) - ${file.size} bytes, ` +\n",
              "        `last modified: ${\n",
              "            file.lastModifiedDate ? file.lastModifiedDate.toLocaleDateString() :\n",
              "                                    'n/a'} - `));\n",
              "    const percent = span('0% done');\n",
              "    li.appendChild(percent);\n",
              "\n",
              "    outputElement.appendChild(li);\n",
              "\n",
              "    const fileDataPromise = new Promise((resolve) => {\n",
              "      const reader = new FileReader();\n",
              "      reader.onload = (e) => {\n",
              "        resolve(e.target.result);\n",
              "      };\n",
              "      reader.readAsArrayBuffer(file);\n",
              "    });\n",
              "    // Wait for the data to be ready.\n",
              "    let fileData = yield {\n",
              "      promise: fileDataPromise,\n",
              "      response: {\n",
              "        action: 'continue',\n",
              "      }\n",
              "    };\n",
              "\n",
              "    // Use a chunked sending to avoid message size limits. See b/62115660.\n",
              "    let position = 0;\n",
              "    do {\n",
              "      const length = Math.min(fileData.byteLength - position, MAX_PAYLOAD_SIZE);\n",
              "      const chunk = new Uint8Array(fileData, position, length);\n",
              "      position += length;\n",
              "\n",
              "      const base64 = btoa(String.fromCharCode.apply(null, chunk));\n",
              "      yield {\n",
              "        response: {\n",
              "          action: 'append',\n",
              "          file: file.name,\n",
              "          data: base64,\n",
              "        },\n",
              "      };\n",
              "\n",
              "      let percentDone = fileData.byteLength === 0 ?\n",
              "          100 :\n",
              "          Math.round((position / fileData.byteLength) * 100);\n",
              "      percent.textContent = `${percentDone}% done`;\n",
              "\n",
              "    } while (position < fileData.byteLength);\n",
              "  }\n",
              "\n",
              "  // All done.\n",
              "  yield {\n",
              "    response: {\n",
              "      action: 'complete',\n",
              "    }\n",
              "  };\n",
              "}\n",
              "\n",
              "scope.google = scope.google || {};\n",
              "scope.google.colab = scope.google.colab || {};\n",
              "scope.google.colab._files = {\n",
              "  _uploadFiles,\n",
              "  _uploadFilesContinue,\n",
              "};\n",
              "})(self);\n",
              "</script> "
            ]
          },
          "metadata": {}
        },
        {
          "output_type": "stream",
          "name": "stdout",
          "text": [
            "Saving salary.csv to salary.csv\n"
          ]
        }
      ]
    },
    {
      "cell_type": "code",
      "source": [
        "dataset=pd.read_csv('salary.csv')\n",
        "print(dataset)"
      ],
      "metadata": {
        "colab": {
          "base_uri": "https://localhost:8080/"
        },
        "id": "vnaTu-ArbAse",
        "outputId": "a4da5882-ad51-4986-db58-a024df62f6f7"
      },
      "execution_count": null,
      "outputs": [
        {
          "output_type": "stream",
          "name": "stdout",
          "text": [
            "       age  education.num  capital.gain  hours.per.week income\n",
            "0       90              9             0              40  <=50K\n",
            "1       82              9             0              18  <=50K\n",
            "2       66             10             0              40  <=50K\n",
            "3       54              4             0              40  <=50K\n",
            "4       41             10             0              40  <=50K\n",
            "...    ...            ...           ...             ...    ...\n",
            "32556   22             10             0              40  <=50K\n",
            "32557   27             12             0              38  <=50K\n",
            "32558   40              9             0              40   >50K\n",
            "32559   58              9             0              40  <=50K\n",
            "32560   22              9             0              20  <=50K\n",
            "\n",
            "[32561 rows x 5 columns]\n"
          ]
        }
      ]
    },
    {
      "cell_type": "code",
      "source": [
        "print(dataset.shape)\n",
        "print(dataset.head(5))"
      ],
      "metadata": {
        "colab": {
          "base_uri": "https://localhost:8080/"
        },
        "id": "QkYob3sWbsi8",
        "outputId": "a09f18b0-548a-4b23-f739-818c5b200bba"
      },
      "execution_count": null,
      "outputs": [
        {
          "output_type": "stream",
          "name": "stdout",
          "text": [
            "(32561, 5)\n",
            "   age  education.num  capital.gain  hours.per.week income\n",
            "0   90              9             0              40  <=50K\n",
            "1   82              9             0              18  <=50K\n",
            "2   66             10             0              40  <=50K\n",
            "3   54              4             0              40  <=50K\n",
            "4   41             10             0              40  <=50K\n"
          ]
        }
      ]
    },
    {
      "cell_type": "code",
      "source": [],
      "metadata": {
        "id": "f7W6vq7WN5n2"
      },
      "execution_count": null,
      "outputs": []
    },
    {
      "cell_type": "code",
      "source": [
        "#mapping\n",
        "income_set=set(dataset['income'])\n",
        "dataset['income']=dataset['income'].map({'<=50K':0, '>50K':1}).astype(int)\n",
        "print(dataset.head(20))"
      ],
      "metadata": {
        "colab": {
          "base_uri": "https://localhost:8080/"
        },
        "id": "Ve4rL9WlaE4-",
        "outputId": "26dacbc7-6efa-49ba-9716-2736e7954e7b"
      },
      "execution_count": null,
      "outputs": [
        {
          "output_type": "stream",
          "name": "stdout",
          "text": [
            "    age  education.num  capital.gain  hours.per.week  income\n",
            "0    90              9             0              40       0\n",
            "1    82              9             0              18       0\n",
            "2    66             10             0              40       0\n",
            "3    54              4             0              40       0\n",
            "4    41             10             0              40       0\n",
            "5    34              9             0              45       0\n",
            "6    38              6             0              40       0\n",
            "7    74             16             0              20       1\n",
            "8    68              9             0              40       0\n",
            "9    41             10             0              60       1\n",
            "10   45             16             0              35       1\n",
            "11   38             15             0              45       1\n",
            "12   52             13             0              20       1\n",
            "13   32             14             0              55       1\n",
            "14   51             16             0              40       1\n",
            "15   46             15             0              40       1\n",
            "16   45              7             0              76       1\n",
            "17   57             14             0              50       1\n",
            "18   22             12             0              40       1\n",
            "19   34             13             0              50       1\n"
          ]
        }
      ]
    },
    {
      "cell_type": "code",
      "source": [
        "#Extraa\n",
        "dataset.to_csv(r'dataset1.csv', index=False)"
      ],
      "metadata": {
        "id": "ozBRPTgxN83A"
      },
      "execution_count": null,
      "outputs": []
    },
    {
      "cell_type": "markdown",
      "source": [
        "Segragate into values\n"
      ],
      "metadata": {
        "id": "mffslaUTb7G9"
      }
    },
    {
      "cell_type": "code",
      "source": [
        "#segregate\n",
        "x=dataset.iloc[:,:-1].values\n",
        "x"
      ],
      "metadata": {
        "colab": {
          "base_uri": "https://localhost:8080/"
        },
        "id": "3IADdpGRb-k1",
        "outputId": "afb34515-4a6b-434d-9981-13b289196768"
      },
      "execution_count": null,
      "outputs": [
        {
          "output_type": "execute_result",
          "data": {
            "text/plain": [
              "array([[90,  9,  0, 40],\n",
              "       [82,  9,  0, 18],\n",
              "       [66, 10,  0, 40],\n",
              "       ...,\n",
              "       [40,  9,  0, 40],\n",
              "       [58,  9,  0, 40],\n",
              "       [22,  9,  0, 20]])"
            ]
          },
          "metadata": {},
          "execution_count": 7
        }
      ]
    },
    {
      "cell_type": "code",
      "source": [
        "y=dataset.iloc[:,-1].values\n",
        "y"
      ],
      "metadata": {
        "colab": {
          "base_uri": "https://localhost:8080/"
        },
        "id": "pUHYzdnjcAcp",
        "outputId": "80d9befb-fb56-41f7-b07c-5edfaaa3b5ae"
      },
      "execution_count": null,
      "outputs": [
        {
          "output_type": "execute_result",
          "data": {
            "text/plain": [
              "array([0, 0, 0, ..., 1, 0, 0])"
            ]
          },
          "metadata": {},
          "execution_count": 8
        }
      ]
    },
    {
      "cell_type": "code",
      "source": [
        "!pip install scikit-learn"
      ],
      "metadata": {
        "colab": {
          "base_uri": "https://localhost:8080/"
        },
        "id": "gNJ0h-4QdO6s",
        "outputId": "b4f1abdf-f84b-4496-cf23-87828f1d2995"
      },
      "execution_count": null,
      "outputs": [
        {
          "output_type": "stream",
          "name": "stdout",
          "text": [
            "Looking in indexes: https://pypi.org/simple, https://us-python.pkg.dev/colab-wheels/public/simple/\n",
            "Requirement already satisfied: scikit-learn in /usr/local/lib/python3.7/dist-packages (1.0.2)\n",
            "Requirement already satisfied: joblib>=0.11 in /usr/local/lib/python3.7/dist-packages (from scikit-learn) (1.2.0)\n",
            "Requirement already satisfied: scipy>=1.1.0 in /usr/local/lib/python3.7/dist-packages (from scikit-learn) (1.7.3)\n",
            "Requirement already satisfied: threadpoolctl>=2.0.0 in /usr/local/lib/python3.7/dist-packages (from scikit-learn) (3.1.0)\n",
            "Requirement already satisfied: numpy>=1.14.6 in /usr/local/lib/python3.7/dist-packages (from scikit-learn) (1.21.6)\n"
          ]
        }
      ]
    },
    {
      "cell_type": "code",
      "source": [
        "#splitting data into train and test model\n",
        "from sklearn.model_selection import train_test_split\n",
        "x_train, x_test, y_train, y_test =train_test_split(x,y,test_size=0.25, random_state=0)"
      ],
      "metadata": {
        "id": "--4Q1yMbcImP"
      },
      "execution_count": null,
      "outputs": []
    },
    {
      "cell_type": "code",
      "source": [
        "#feature scaling\n",
        "from sklearn.preprocessing import StandardScaler\n",
        "sc=StandardScaler()\n",
        "x_train=sc.fit_transform(x_train)\n",
        "x_test=sc.transform(x_test)\n",
        "x_train"
      ],
      "metadata": {
        "colab": {
          "base_uri": "https://localhost:8080/"
        },
        "id": "qvHEaqFscSG8",
        "outputId": "03d6b0f7-41ab-4dce-f5c4-694ba231df50"
      },
      "execution_count": null,
      "outputs": [
        {
          "output_type": "execute_result",
          "data": {
            "text/plain": [
              "array([[ 1.20264866, -2.76154633, -0.14509813, -0.03923011],\n",
              "       [ 0.25021666, -0.42608063, -0.14509813, -0.03923011],\n",
              "       [ 0.25021666, -0.42608063, -0.14509813, -0.03923011],\n",
              "       ...,\n",
              "       [-0.92200734, -0.81532491, -0.14509813,  0.85306386],\n",
              "       [ 0.39674466,  1.52014079, -0.14509813, -0.03923011],\n",
              "       [ 0.03042466, -0.42608063,  0.83219401, -0.03923011]])"
            ]
          },
          "metadata": {},
          "execution_count": 18
        }
      ]
    },
    {
      "cell_type": "code",
      "source": [
        "#finding best k value\n",
        "error=[]\n",
        "from sklearn.neighbors import KNeighborsClassifier\n",
        "import matplotlib.pyplot as plt\n",
        "#calculating error for k values betn 1-40\n",
        "for i in range(1,40):\n",
        "\tmodel=KNeighborsClassifier(n_neighbors=i)\n",
        "\tmodel.fit(x_train,y_train)\n",
        "\tpred_i=model.predict(x_test)\n",
        "\terror.append(np.mean(pred_i != y_test))\n",
        "plt.figure(figsize=(12,6))\n",
        "plt.plot(range(1,40), error, color=\"red\", linestyle='dashed', marker='o', markerfacecolor='blue', markersize=10)\n",
        "plt.title(\"error rate k value\")\n",
        "plt.xlabel('K value')\n",
        "plt.ylabel('Mean Error')"
      ],
      "metadata": {
        "colab": {
          "base_uri": "https://localhost:8080/",
          "height": 421
        },
        "id": "wDkPbiHxdeQ0",
        "outputId": "04053322-02f4-40f4-9872-4f195eb437e5"
      },
      "execution_count": null,
      "outputs": [
        {
          "output_type": "execute_result",
          "data": {
            "text/plain": [
              "Text(0, 0.5, 'Mean Error')"
            ]
          },
          "metadata": {},
          "execution_count": 21
        },
        {
          "output_type": "display_data",
          "data": {
            "text/plain": [
              "<Figure size 864x432 with 1 Axes>"
            ],
            "image/png": "[encoded data removed]"
          },
          "metadata": {
            "needs_background": "light"
          }
        }
      ]
    },
    {
      "cell_type": "code",
      "source": [
        "from sklearn.neighbors import KNeighborsClassifier\n",
        "model= KNeighborsClassifier(n_neighbors=5, metric='minkowski', p=2)\n",
        "model.fit(x_train,y_train)"
      ],
      "metadata": {
        "colab": {
          "base_uri": "https://localhost:8080/"
        },
        "id": "geMD40pZeNkx",
        "outputId": "78710727-4735-41ff-9b6f-deea0277fbcc"
      },
      "execution_count": null,
      "outputs": [
        {
          "output_type": "execute_result",
          "data": {
            "text/plain": [
              "KNeighborsClassifier()"
            ]
          },
          "metadata": {},
          "execution_count": 22
        }
      ]
    },
    {
      "cell_type": "code",
      "source": [
        "#predict by input values\n",
        "age=int(input(\"enter age\"))\n",
        "edu=int(input(\"enter education\"))\n",
        "cg=int(input(\"enter capital gain \"))\n",
        "wh=int(input(\"enter hours per week \"))\n",
        "newEmp=[[age,edu,cg,wh]]\n",
        "result=model.predict(sc.transform(newEmp))\n",
        "print(result)\n",
        "\n",
        "if result ==1:\n",
        "\tprint(\"salary above 50K\")\n",
        "else:\n",
        "\tprint(\"salary below 50K\")"
      ],
      "metadata": {
        "colab": {
          "base_uri": "https://localhost:8080/"
        },
        "id": "Gng9tmP6ecgp",
        "outputId": "7400d7c2-770f-4abb-cf14-e4bf896b1743"
      },
      "execution_count": null,
      "outputs": [
        {
          "output_type": "stream",
          "name": "stdout",
          "text": [
            "enter age18\n",
            "enter education15\n",
            "enter capital gain 0\n",
            "enter hours per week 40\n",
            "[0]\n",
            "salary below 50K\n"
          ]
        }
      ]
    },
    {
      "cell_type": "code",
      "source": [
        "#predicting wheather buy or not\n",
        "y_pred=model.predict(x_test)"
      ],
      "metadata": {
        "id": "ZR9IAGboe8zO"
      },
      "execution_count": null,
      "outputs": []
    },
    {
      "cell_type": "code",
      "source": [
        "#accuracy\n",
        "from sklearn.metrics import accuracy_score\n",
        "print(\"accuracy of the model: {0}%\".format(accuracy_score(y_test,y_pred)*100))"
      ],
      "metadata": {
        "colab": {
          "base_uri": "https://localhost:8080/"
        },
        "id": "-RKsK7Swed2T",
        "outputId": "5c10ac74-44eb-4788-ceaa-09d7a54a94a6"
      },
      "execution_count": null,
      "outputs": [
        {
          "output_type": "stream",
          "name": "stdout",
          "text": [
            "accuracy of the model: 80.56749785038693%\n"
          ]
        }
      ]
    }
  ]
}